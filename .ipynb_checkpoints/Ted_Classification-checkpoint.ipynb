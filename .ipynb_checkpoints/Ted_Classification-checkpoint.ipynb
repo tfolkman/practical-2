{
 "cells": [
  {
   "cell_type": "code",
   "execution_count": 67,
   "metadata": {
    "collapsed": true
   },
   "outputs": [],
   "source": [
    "import urllib.request\n",
    "import zipfile\n",
    "import lxml.etree\n",
    "import os\n",
    "import spacy"
   ]
  },
  {
   "cell_type": "code",
   "execution_count": 83,
   "metadata": {
    "collapsed": true
   },
   "outputs": [],
   "source": [
    "def download_data_maybe():\n",
    "    if not os.path.isfile('ted_en-20160408.zip'):\n",
    "        urllib.request.urlretrieve(\"https://wit3.fbk.eu/get.php?path=XML_releases/xml/ted_en-20160408.zip&filename=ted_en-20160408.zip\", filename=\"ted_en-20160408.zip\")\n",
    "    else:\n",
    "        with zipfile.ZipFile('ted_en-20160408.zip', 'r') as z:\n",
    "            doc = lxml.etree.parse(z.open('ted_en-20160408.xml', 'r'))\n",
    "    return doc.getroot()\n",
    "\n",
    "def get_raw_text_keywords(root):\n",
    "    text, keywords = [], []\n",
    "    for children in root:\n",
    "        sub_children = children.getchildren()\n",
    "        keywords.append(sub_children[0][5].text.lower())\n",
    "        text.append(sub_children[1].text.lower())\n",
    "    return text, keywords\n",
    "\n",
    "def tokenize_text(text, nlp):\n",
    "    all_text = []\n",
    "    for t in text:\n",
    "        all_text.append(list(nlp(t)))\n",
    "    return all_text\n",
    "\n",
    "def process_keywords(raw_keywords):\n",
    "    labels = []\n",
    "    for keywords in raw_keywords:\n",
    "        label = [\"o\", \"o\", \"o\"]\n",
    "        if \"technology\" in keywords:\n",
    "            label[0] = \"T\"\n",
    "        if \"entertainment\" in keywords:\n",
    "            label[1] = \"E\"\n",
    "        if \"design\" in keywords:\n",
    "            label[2] = \"D\"\n",
    "        labels.append(\"\".join(label))\n",
    "    return labels"
   ]
  },
  {
   "cell_type": "code",
   "execution_count": 65,
   "metadata": {},
   "outputs": [],
   "source": [
    "root = download_data_maybe()"
   ]
  },
  {
   "cell_type": "code",
   "execution_count": 66,
   "metadata": {},
   "outputs": [],
   "source": [
    "raw_text, raw_keywords = get_raw_text_keywords(root)"
   ]
  },
  {
   "cell_type": "code",
   "execution_count": 78,
   "metadata": {},
   "outputs": [],
   "source": [
    "tokenized_text = tokenize_text(raw_text, spacy.load('en'))"
   ]
  },
  {
   "cell_type": "code",
   "execution_count": 84,
   "metadata": {},
   "outputs": [],
   "source": [
    "labels = process_keywords(raw_keywords)"
   ]
  },
  {
   "cell_type": "code",
   "execution_count": 80,
   "metadata": {},
   "outputs": [
    {
     "data": {
      "text/plain": [
       "'talks, business, creativity, curiosity, goal-setting, innovation, motivation, potential, success, work'"
      ]
     },
     "execution_count": 80,
     "metadata": {},
     "output_type": "execute_result"
    }
   ],
   "source": [
    "raw_keywords[0]"
   ]
  },
  {
   "cell_type": "code",
   "execution_count": 85,
   "metadata": {},
   "outputs": [
    {
     "data": {
      "text/plain": [
       "'ooo'"
      ]
     },
     "execution_count": 85,
     "metadata": {},
     "output_type": "execute_result"
    }
   ],
   "source": [
    "labels[0]"
   ]
  },
  {
   "cell_type": "code",
   "execution_count": 86,
   "metadata": {},
   "outputs": [
    {
     "data": {
      "text/plain": [
       "'ooo'"
      ]
     },
     "execution_count": 86,
     "metadata": {},
     "output_type": "execute_result"
    }
   ],
   "source": [
    "labels[1]"
   ]
  },
  {
   "cell_type": "code",
   "execution_count": null,
   "metadata": {
    "collapsed": true
   },
   "outputs": [],
   "source": []
  }
 ],
 "metadata": {
  "kernelspec": {
   "display_name": "Python 3",
   "language": "python",
   "name": "python3"
  },
  "language_info": {
   "codemirror_mode": {
    "name": "ipython",
    "version": 3
   },
   "file_extension": ".py",
   "mimetype": "text/x-python",
   "name": "python",
   "nbconvert_exporter": "python",
   "pygments_lexer": "ipython3",
   "version": "3.6.1"
  }
 },
 "nbformat": 4,
 "nbformat_minor": 2
}
